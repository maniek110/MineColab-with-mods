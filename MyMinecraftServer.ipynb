{
  "cells": [
    {
      "cell_type": "markdown",
      "metadata": {
        "id": "view-in-github",
        "colab_type": "text"
      },
      "source": [
        "<a href=\"https://colab.research.google.com/github/maniek110/MineColab-with-mods/blob/master/MyMinecraftServer.ipynb\" target=\"_parent\"><img src=\"https://colab.research.google.com/assets/colab-badge.svg\" alt=\"Open In Colab\"/></a>"
      ]
    },
    {
      "cell_type": "markdown",
      "metadata": {
        "id": "cQpQYmpWWKqZ"
      },
      "source": [
        "[link do gita](https://github.com/thecoder-001/MineColab)"
      ]
    },
    {
      "cell_type": "markdown",
      "source": [
        ""
      ],
      "metadata": {
        "id": "duNxlD3plEiX"
      }
    },
    {
      "cell_type": "markdown",
      "metadata": {
        "id": "ZktjRJuZp1h6"
      },
      "source": [
        "\n",
        "```\n",
        "███╗   ███╗██╗███╗   ██╗███████╗ ██████╗ ██████╗ ██╗      █████╗ ██████╗ \n",
        "████╗ ████║██║████╗  ██║██╔════╝██╔════╝██╔═══██╗██║     ██╔══██╗██╔══██╗\n",
        "██╔████╔██║██║██╔██╗ ██║█████╗  ██║     ██║   ██║██║     ███████║██████╔╝\n",
        "██║╚██╔╝██║██║██║╚██╗██║██╔══╝  ██║     ██║   ██║██║     ██╔══██║██╔══██╗\n",
        "██║ ╚═╝ ██║██║██║ ╚████║███████╗╚██████╗╚██████╔╝███████╗██║  ██║██████╔╝\n",
        "╚═╝     ╚═╝╚═╝╚═╝  ╚═══╝╚══════╝ ╚═════╝ ╚═════╝ ╚══════╝╚═╝  ╚═╝╚═════╝ \n",
        "```\n",
        "**Run a Minecraft Server on Google Colab!**\n",
        "\n",
        "---\n",
        "\n",
        "The script below will run your server. You'll have to create a server first to be able to use it - don't worry, the scripts below will do the majority of the work for you. You might also want to change the default region to your region, check below.\n",
        "\n",
        "Run this in web browser console to prevent Colab reconnection\n",
        "```\n",
        "function ClickConnect(){\n",
        "console.log(\"Working\"); \n",
        "document.querySelector(\"colab-toolbar-button#toolbar-add-code\").click() \n",
        "}setInterval(ClickConnect,120000)\n",
        "```\n",
        "\n",
        "**Tips**\n",
        "\n",
        "1.   If you have problem with mounting GD, copy whole script to new Colab notebook\n",
        "2.   Ngrok is better\n",
        "\n"
      ]
    },
    {
      "cell_type": "code",
      "execution_count": 9,
      "metadata": {
        "colab": {
          "base_uri": "https://localhost:8080/"
        },
        "id": "s_gxUa2OUsO2",
        "outputId": "a7b3fffb-4c7b-4af9-a8a6-707591565558",
        "cellView": "form"
      },
      "outputs": [
        {
          "output_type": "stream",
          "name": "stdout",
          "text": [
            "\u001b[90m2022-06-22T14:00:22Z\u001b[0m \u001b[32mINF\u001b[0m Initiating graceful shutdown due to signal interrupt ...\n",
            "[14:00:22 INFO]: Stopping server\u001b[m\n",
            "[14:00:22 INFO]: Saving players\u001b[m\n",
            "[14:00:22 INFO]: Saving worlds\u001b[m\n",
            "[14:00:22 INFO]: Saving chunks for level 'ServerLevel[world]'/minecraft:overworld\u001b[m\n",
            "\u001b[90m2022-06-22T14:00:22Z\u001b[0m \u001b[32mINF\u001b[0m Unregistered tunnel connection \u001b[36mconnIndex=\u001b[0m0\n",
            "\u001b[90m2022-06-22T14:00:22Z\u001b[0m \u001b[32mINF\u001b[0m Unregistered tunnel connection \u001b[36mconnIndex=\u001b[0m3\n",
            "\u001b[90m2022-06-22T14:00:22Z\u001b[0m \u001b[32mINF\u001b[0m Unregistered tunnel connection \u001b[36mconnIndex=\u001b[0m2\n",
            "\u001b[90m2022-06-22T14:00:22Z\u001b[0m \u001b[32mINF\u001b[0m Unregistered tunnel connection \u001b[36mconnIndex=\u001b[0m1\n",
            "\u001b[90m2022-06-22T14:00:22Z\u001b[0m \u001b[32mINF\u001b[0m Tunnel server stopped\n",
            "\u001b[90m2022-06-22T14:00:22Z\u001b[0m \u001b[32mINF\u001b[0m Metrics server stopped\n",
            "^C\n"
          ]
        }
      ],
      "source": [
        "#@title Default title text\n",
        "ForwardType = \"ngrok\" #@param [\"ngrok\", \"cloudflare\"]\n",
        "import os\n",
        "import re\n",
        "import json\n",
        "\n",
        "import requests\n",
        "\n",
        "# Update the package lists\n",
        "!sudo apt update &>/dev/null && echo \"apt cache successfully updated\" || echo \"apt cache update failed, you might receive stale packages\"\n",
        "# Install OpenJDK 17\n",
        "# !wget -qO - https://adoptopenjdk.jfrog.io/adoptopenjdk/api/gpg/key/public | sudo apt-key add -\n",
        "# !sudo add-apt-repository --yes https://adoptopenjdk.jfrog.io/adoptopenjdk/deb/ &>/dev/null || echo \"Failed to add repo. Still can be ignored if openjdk17 gets installed.\"\n",
        "!sudo apt-get install openjdk-17-jre-headless &>/dev/null && echo \"Yay! Openjdk17 has been successfully installed.\" || echo \"Failed to install OpenJdk17.\"\n",
        "#Perform java version check\n",
        "java_ver = !java -version 2>&1 | awk -F[\\\"\\.] -v OFS=. 'NR==1{print $2}'\n",
        "if java_ver[0] == \"17\" :\n",
        "  print(\"Openjdk17 is working correctly, you are good to go.\")\n",
        "else:\n",
        "  print(\"Openjdk17 doesn't seems to be installed or isn't working, falling back to java\", java_ver[0], \". You might experience reduced performance. Minecraft 1.17 and above might fail to launch.\")\n",
        "\n",
        "# Change directory to the Minecraft server folder on Google Drive\n",
        "%cd \"drive/My Drive/Minecraft-server\"\n",
        "!ls #list the directory contents (to verify that working directory was changed)\n",
        "\n",
        "# Import config file.\n",
        "if os.path.isfile(\"colabconfig.json\"):\n",
        "  colabconfig = json.load(open(\"colabconfig.json\"))\n",
        "else:\n",
        "  colabconfig = {\"server_type\": \"generic\"} # using default, if config doesn't exists.\n",
        "  json.dump(colabconfig, open(\"colabconfig.json\",'w'))\n",
        "\n",
        "# Server jar names.\n",
        "jar_list = {'paper': 'server.jar', 'fabric': 'fabric-server-launch.jar', 'generic': 'server.jar'}\n",
        "jar_name = jar_list[colabconfig[\"server_type\"]]\n",
        "\n",
        "# Java arguments.\n",
        "if colabconfig[\"server_type\"] == \"paper\":\n",
        "  server_flags = \"-XX:+UseG1GC -XX:+ParallelRefProcEnabled -XX:MaxGCPauseMillis=200 -XX:+UnlockExperimentalVMOptions -XX:+DisableExplicitGC -XX:+AlwaysPreTouch -XX:G1NewSizePercent=30 -XX:G1MaxNewSizePercent=40 -XX:G1HeapRegionSize=8M -XX:G1ReservePercent=20 -XX:G1HeapWastePercent=5 -XX:G1MixedGCCountTarget=4 -XX:InitiatingHeapOccupancyPercent=15 -XX:G1MixedGCLiveThresholdPercent=90 -XX:G1RSetUpdatingPauseTimePercent=5 -XX:SurvivorRatio=32 -XX:+PerfDisableSharedMem -XX:MaxTenuringThreshold=1 -Dusing.aikars.flags=https://mcflags.emc.gs -Daikars.new.flags=true\"\n",
        "else:\n",
        "  server_flags = \"\" # aiker's flags might negatively impact performance on non-paper servers.\n",
        "memory_allocation = \"-Xmx6144M -Xms6144M\"\n",
        "\n",
        "# Chose the tunnle service you want to use\n",
        "# Available options: ngrok, argo\n",
        "tunnel_service = ForwardType\n",
        "print(\"Procedding to use\", tunnel_service)\n",
        "\n",
        "if tunnel_service == \"ngrok\":\n",
        "  !pip -q install pyngrok\n",
        "  from pyngrok import conf, ngrok\n",
        "  \n",
        "  # Ask for the ngrok authtoken\n",
        "  print(\"Get your authtoken from https://dashboard.ngrok.com/auth\")\n",
        "  import getpass\n",
        "  authtoken = \"2AojyIHMwDcPDxrT67GfMTgTFZC_7BMiB6UnYRguZRXBbgjCA\"  # input your Ngrok auth token everytime you run the cell or simply replace \"getpass.getpass()\" with your token in \"double quotes\"\n",
        "  ! ngrok authtoken $authtoken # login to ngrok\n",
        "\n",
        "  # Sets default ngrok region\n",
        "  conf.get_default().region = 'eu'  # Change this to whichever region you want\n",
        "\n",
        "  # Connect to ngrok\n",
        "  url = ngrok.connect(25565, 'tcp')\n",
        "  print('Your server address is ' + ((str(url).split('\"')[1::2])[0]).replace('tcp://', ''))\n",
        "  \n",
        "  print(requests.get('http://localhost:4040/api/tunnels').json())\n",
        "  \n",
        "  print('Starting server...')\n",
        "  !java $memory_allocation $server_flags -jar $jar_name nogui\n",
        "\n",
        "else:\n",
        "  # Download & make argo executable\n",
        "  !wget https://github.com/cloudflare/cloudflared/releases/latest/download/cloudflared-linux-amd64\n",
        "  !chmod +x cloudflared-linux-amd64\n",
        "  print('Starting server...')\n",
        "  !./cloudflared-linux-amd64 tunnel --url tcp://127.0.0.1:25565 & java $memory_allocation $server_flags -jar $jar_name nogui\n"
      ]
    },
    {
      "cell_type": "code",
      "metadata": {
        "id": "Fy5-YjJMPV3S",
        "colab": {
          "base_uri": "https://localhost:8080/"
        },
        "cellView": "form",
        "outputId": "8f9169a1-40ec-4564-e477-8b98d3165aac"
      },
      "source": [
        "#@title Default title text\n",
        "Version = \"1.18\" #@param [\"1.18.2\", \"1.18.1\", \"1.18\", \"1.17.1\", \"1.17\", \"1.16.4\", \"1.16.3\", \"1.15.2\", \"1.14.4\", \"1.13.2\", \"1.12.2\", \"1.11.2\", \"1.10.2\", \"1.9.4\", \"1.8.8\"] {allow-input: true}\n",
        "Type = \"paper\" #@param [\"paper\", \"fabric\"]\n",
        "# Replace \"1.17\" with your desired server version.\n",
        "# Available versions:\n",
        "# - 1.18.2\n",
        "# - 1.18.1\n",
        "# - 1.18\n",
        "# - 1.17.1\n",
        "# - 1.17\n",
        "# - 1.16.4\n",
        "# - 1.16.3\n",
        "# - 1.15.2\n",
        "# - 1.14.4\n",
        "# - 1.13.2\n",
        "# - 1.12.2\n",
        "# - 1.11.2\n",
        "# - 1.10.2\n",
        "# - 1.9.4\n",
        "# - 1.8.8\n",
        "# Newer versions might work too, however this isn't guaranteed.\n",
        "version = Version\n",
        "\n",
        "#Chose server type. Currently available versions: fabric, paper\n",
        "server_type = Type\n",
        "\n",
        "# Print experimental build warning -- no longer needed\n",
        "# if version == '1.18' and server_type == 'paper':\n",
        "#  print(\"<!> Paper 1.18 builds are still experimental. Make regular Backups!\")\n",
        "\n",
        "from google.colab import drive\n",
        "import requests\n",
        "import json\n",
        "\n",
        "\n",
        "drive._mount('/content/drive')\n",
        "\n",
        "# Create the directory which will be used for the server\n",
        "! mkdir \"/content/drive/My Drive/Minecraft-server\"\n",
        "%cd \"/content/drive/My Drive/Minecraft-server\"\n",
        "\n",
        "# Internal init...\n",
        "\n",
        "\n",
        "a = requests.get(\"https://papermc.io/api/v2/projects/paper/versions/\" + version)\n",
        "#print(a.json()[\"builds\"][-1])\n",
        "b = requests.get(\"https://papermc.io/api/v2/projects/paper/versions/\" + version + \"/builds/\" + str(a.json()[\"builds\"][-1]))\n",
        "#print(b.json()[\"downloads\"][\"application\"][\"name\"])\n",
        "print(\"https://papermc.io/api/v2/projects/paper/versions/\" + version + \"/builds/\" + str(a.json()[\"builds\"][-1]) + \"/downloads/\" + b.json()[\"downloads\"][\"application\"][\"name\"])\n",
        "\n",
        "paperURL = \"https://papermc.io/api/v2/projects/paper/versions/\" + version + \"/builds/\" + str(a.json()[\"builds\"][-1]) + \"/downloads/\" + b.json()[\"downloads\"][\"application\"][\"name\"]\n",
        "\n",
        "jar_name = {'paper': 'server.jar', 'fabric': 'fabric-installer.jar'}\n",
        "url = {\n",
        "    'paper': (paperURL),\n",
        "    'fabric': 'https://maven.fabricmc.net/net/fabricmc/fabric-installer/0.7.4/fabric-installer-0.7.4.jar'\n",
        "    }\n",
        "\n",
        "print('Downloading to Google Drive...')\n",
        "\n",
        "r = requests.get(url[server_type])\n",
        "\n",
        "if r.status_code is 200:\n",
        "  with open('/content/drive/My Drive/Minecraft-server/' + jar_name[server_type], 'wb') as f:\n",
        "    f.write(r.content)\n",
        "else:\n",
        "  print('Error '+ str(r.status_code) + '! Most likely you entered a unsupported version. Try running the code again if you think that shouldn\\'t have happened.')\n",
        "\n",
        "# Running specific install path.\n",
        "if server_type == 'fabric':\n",
        "  !java -jar fabric-installer.jar server -mcversion $version -downloadMinecraft\n",
        "\n",
        "# Saving config\n",
        "colabconfig = {\"server_type\": server_type}\n",
        "json.dump(colabconfig, open(\"colabconfig.json\",'w'))\n",
        "\n",
        "print('Done!') # todo: Would show even after erroring.\n"
      ],
      "execution_count": 8,
      "outputs": [
        {
          "output_type": "stream",
          "name": "stdout",
          "text": [
            "Drive already mounted at /content/drive; to attempt to forcibly remount, call drive.mount(\"/content/drive\", force_remount=True).\n",
            "mkdir: cannot create directory ‘/content/drive/My Drive/Minecraft-server’: File exists\n",
            "/content/drive/My Drive/Minecraft-server\n",
            "https://papermc.io/api/v2/projects/paper/versions/1.18/builds/66/downloads/paper-1.18-66.jar\n",
            "Downloading to Google Drive...\n",
            "Done!\n"
          ]
        }
      ]
    },
    {
      "cell_type": "code",
      "execution_count": null,
      "metadata": {
        "id": "UgaQ9XySVh2J"
      },
      "outputs": [],
      "source": [
        "# Please read the file stored in your server folder before running this command. \n",
        "# Also, go to https://www.minecraft.net/en-us/eula to read Minecraft's EULA.\n",
        "\n",
        "# Make sure Drive is mounted\n",
        "#from google.colab import drive\n",
        "#drive.mount('/content/drive')\n",
        "\n",
        "%cd \"/content/drive/My Drive/Minecraft-server\"\n",
        "!echo \"eula=true\" >> eula.txt"
      ]
    },
    {
      "cell_type": "code",
      "execution_count": null,
      "metadata": {
        "id": "p32JWtQ0VwvB"
      },
      "outputs": [],
      "source": [
        "#@title Colab-ssh tunnel\n",
        "#@markdown Execute this cell to open the ssh tunnel. Check [colab-ssh documentation](https://github.com/WassimBenzarti/colab-ssh) for more details.\n",
        "\n",
        "# Install colab_ssh on google colab\n",
        "!pip install colab_ssh --upgrade\n",
        "\n",
        "from colab_ssh import launch_ssh_cloudflared, init_git_cloudflared\n",
        "ssh_tunnel_password = \"<PUT_YOUR_PASSWORD_HERE>\" #@param {type: \"string\"}\n",
        "launch_ssh_cloudflared(password=ssh_tunnel_password)"
      ]
    },
    {
      "cell_type": "code",
      "execution_count": null,
      "metadata": {
        "id": "bNWLeFDVV0qV"
      },
      "outputs": [],
      "source": [
        "#Get public address (ngrok)\n",
        "! curl -s http://localhost:4040/api/tunnels | python3 -c \\\n",
        "    \"import sys, json; print(json.load(sys.stdin)['tunnels'][0]['public_url'])\""
      ]
    },
    {
      "cell_type": "code",
      "execution_count": null,
      "metadata": {
        "id": "qYLaemwRV2yj"
      },
      "outputs": [],
      "source": [
        "## For inspecting the minecraft server directory ##\n",
        "%cd \"/content/drive/My Drive/Minecraft-server\"\n",
        "!ls\n"
      ]
    }
  ],
  "metadata": {
    "colab": {
      "collapsed_sections": [],
      "name": "MyMinecraftServer.ipynb",
      "provenance": [],
      "mount_file_id": "1q5-mmfi20SmknHMLaPAwmj4i5msXcXK4",
      "authorship_tag": "ABX9TyOXxh0Frwn5GDuGdTWBS6PO",
      "include_colab_link": true
    },
    "kernelspec": {
      "display_name": "Python 3",
      "name": "python3"
    },
    "language_info": {
      "name": "python"
    }
  },
  "nbformat": 4,
  "nbformat_minor": 0
}